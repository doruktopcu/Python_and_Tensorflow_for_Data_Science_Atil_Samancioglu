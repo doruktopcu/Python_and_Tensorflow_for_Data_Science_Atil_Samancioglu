{
 "cells": [
  {
   "cell_type": "markdown",
   "metadata": {},
   "source": [
    "## Functions and Methods "
   ]
  },
  {
   "cell_type": "code",
   "execution_count": 1,
   "metadata": {},
   "outputs": [],
   "source": [
    "my_name_is = \"ss slim shady\""
   ]
  },
  {
   "cell_type": "code",
   "execution_count": 2,
   "metadata": {},
   "outputs": [
    {
     "data": {
      "text/plain": [
       "'SS SLIM SHADY'"
      ]
     },
     "execution_count": 2,
     "metadata": {},
     "output_type": "execute_result"
    }
   ],
   "source": [
    "my_name_is.upper()"
   ]
  },
  {
   "cell_type": "code",
   "execution_count": 3,
   "metadata": {},
   "outputs": [
    {
     "data": {
      "text/plain": [
       "'ss slim shady'"
      ]
     },
     "execution_count": 3,
     "metadata": {},
     "output_type": "execute_result"
    }
   ],
   "source": [
    "my_name_is"
   ]
  },
  {
   "cell_type": "code",
   "execution_count": 4,
   "metadata": {},
   "outputs": [],
   "source": [
    "what_my_name_is = my_name_is.upper()"
   ]
  },
  {
   "cell_type": "code",
   "execution_count": 16,
   "metadata": {},
   "outputs": [],
   "source": [
    "def my_first_function_experience(just_kidding_its_not):\n",
    "    #just_kidding_its_not is an integer\n",
    "    for i in range(just_kidding_its_not):\n",
    "        print(\"we never fade away...\")\n",
    "        \n",
    "    x = pow(just_kidding_its_not,2)\n",
    "    \n",
    "    i = 0\n",
    "    sum = 0\n",
    "    while i < just_kidding_its_not:\n",
    "        #sum_of_squared_numbers_from_0_to_just_kidding_its_not\n",
    "        sum = sum + pow(i,2)\n",
    "        i = i + 1\n",
    "    \n",
    "    heres_a_list = str(just_kidding_its_not)\n",
    "    \n",
    "    all_summed_up = x + sum \n",
    "    print(heres_a_list)\n",
    "    \n",
    "    return all_summed_up\n",
    "        \n",
    "        "
   ]
  },
  {
   "cell_type": "code",
   "execution_count": 19,
   "metadata": {},
   "outputs": [
    {
     "name": "stdout",
     "output_type": "stream",
     "text": [
      "we never fade away...\n",
      "we never fade away...\n",
      "we never fade away...\n",
      "we never fade away...\n",
      "we never fade away...\n",
      "we never fade away...\n",
      "we never fade away...\n",
      "we never fade away...\n",
      "we never fade away...\n",
      "we never fade away...\n",
      "we never fade away...\n",
      "we never fade away...\n",
      "we never fade away...\n",
      "we never fade away...\n",
      "we never fade away...\n",
      "we never fade away...\n",
      "we never fade away...\n",
      "we never fade away...\n",
      "we never fade away...\n",
      "we never fade away...\n",
      "20\n"
     ]
    },
    {
     "data": {
      "text/plain": [
       "2870"
      ]
     },
     "execution_count": 19,
     "metadata": {},
     "output_type": "execute_result"
    }
   ],
   "source": [
    "my_first_function_experience(20)"
   ]
  },
  {
   "cell_type": "code",
   "execution_count": 29,
   "metadata": {},
   "outputs": [],
   "source": [
    "def function_example():\n",
    "    user_input = input(\"Name:\")\n",
    "    print(f\"Thanks {user_input}!\")\n",
    "   "
   ]
  },
  {
   "cell_type": "code",
   "execution_count": 30,
   "metadata": {},
   "outputs": [
    {
     "name": "stdout",
     "output_type": "stream",
     "text": [
      "Name:Doruk\n",
      "Thanks Doruk!\n"
     ]
    }
   ],
   "source": [
    "function_example()"
   ]
  },
  {
   "cell_type": "code",
   "execution_count": 32,
   "metadata": {},
   "outputs": [],
   "source": [
    "def control_function(string_input):\n",
    "    if string_input == \"Yeah X3\":\n",
    "        print(\"You are USHER.\")\n",
    "    else:\n",
    "        print(\"Kanye loves you.\")"
   ]
  },
  {
   "cell_type": "code",
   "execution_count": 33,
   "metadata": {},
   "outputs": [
    {
     "name": "stdout",
     "output_type": "stream",
     "text": [
      "You are USHER.\n",
      "Kanye loves you.\n"
     ]
    }
   ],
   "source": [
    "yeah_yeah_yeah = \"Yeah yeah yeah!\"\n",
    "yeah_X3 = \"Yeah X3\"\n",
    "control_function(yeah_X3)\n",
    "control_function(yeah_yeah_yeah)"
   ]
  },
  {
   "cell_type": "code",
   "execution_count": null,
   "metadata": {},
   "outputs": [],
   "source": []
  }
 ],
 "metadata": {
  "kernelspec": {
   "display_name": "Python 3",
   "language": "python",
   "name": "python3"
  },
  "language_info": {
   "codemirror_mode": {
    "name": "ipython",
    "version": 3
   },
   "file_extension": ".py",
   "mimetype": "text/x-python",
   "name": "python",
   "nbconvert_exporter": "python",
   "pygments_lexer": "ipython3",
   "version": "3.8.5"
  }
 },
 "nbformat": 4,
 "nbformat_minor": 4
}
