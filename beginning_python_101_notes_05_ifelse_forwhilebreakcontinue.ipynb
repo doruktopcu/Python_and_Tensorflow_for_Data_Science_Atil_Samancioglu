{
 "cells": [
  {
   "cell_type": "markdown",
   "metadata": {},
   "source": [
    "# If-else statements"
   ]
  },
  {
   "cell_type": "code",
   "execution_count": 1,
   "metadata": {},
   "outputs": [
    {
     "name": "stdout",
     "output_type": "stream",
     "text": [
      "ooohh yesss\n"
     ]
    }
   ],
   "source": [
    "x = 'yes'\n",
    "y = 'yes'\n",
    "if x == y: # 'yes' equals 'yes' -> True\n",
    "    print('ooohh yesss')"
   ]
  },
  {
   "cell_type": "code",
   "execution_count": 4,
   "metadata": {},
   "outputs": [
    {
     "name": "stdout",
     "output_type": "stream",
     "text": [
      "printing this line\n"
     ]
    }
   ],
   "source": [
    "if x !=y: # False\n",
    "    print('not printing this line')\n",
    "\n",
    "else:\n",
    "        print('printing this line')\n",
    "        \n",
    "#if will run the block if the condition is met\n",
    "#else will run the block if the condition isn't met\n"
   ]
  },
  {
   "cell_type": "code",
   "execution_count": 6,
   "metadata": {},
   "outputs": [
    {
     "name": "stdout",
     "output_type": "stream",
     "text": [
      "capishh?\n"
     ]
    }
   ],
   "source": [
    "if x !=y:\n",
    "    print('not gonna print it')\n",
    "elif x*2 == y:\n",
    "    print('not gonna print this too')\n",
    "elif 1==3:\n",
    "    print('I can go with many elifs as I like, similar to switch cases in java and c++ if youre familiar with it')\n",
    "else:\n",
    "    print('capishh?')"
   ]
  },
  {
   "cell_type": "code",
   "execution_count": 7,
   "metadata": {},
   "outputs": [],
   "source": [
    "a = 10\n",
    "b = 20\n",
    "c = 30"
   ]
  },
  {
   "cell_type": "code",
   "execution_count": 58,
   "metadata": {},
   "outputs": [
    {
     "name": "stdout",
     "output_type": "stream",
     "text": [
      "False\n"
     ]
    }
   ],
   "source": [
    "if a > b and b < c:\n",
    "    print(True)\n",
    "else:\n",
    "    print(False)\n"
   ]
  },
  {
   "cell_type": "markdown",
   "metadata": {},
   "source": [
    "# for while Loops (break continue and pass)"
   ]
  },
  {
   "cell_type": "code",
   "execution_count": 27,
   "metadata": {},
   "outputs": [
    {
     "name": "stdout",
     "output_type": "stream",
     "text": [
      "-4\n",
      "-5550\n"
     ]
    }
   ],
   "source": [
    "#Example\n",
    "charecter_alive = True\n",
    "charecter_health = 300\n",
    "charecter_damage = 150\n",
    "\n",
    "enemy_alive = True\n",
    "enemy_health = 150\n",
    "enemy_damage = 8\n",
    "\n",
    "##????????????\n",
    "\n",
    "\n",
    "while enemy_alive:\n",
    "    charecter_health = charecter_health - enemy_damage\n",
    "    enemy_health = enemy_health - charecter_damage\n",
    "    \n",
    "    if charecter_health <0:\n",
    "        charecter_alive = False\n",
    "        \n",
    "    else:\n",
    "        continue\n",
    "            \n",
    "    if enemy_health < 0:\n",
    "        enemy_alive = False\n",
    "        \n",
    "    else:\n",
    "        continue\n",
    "        \n",
    "#     if charecter_alive == True:\n",
    "#         print('Hero is alive')\n",
    "#     else:\n",
    "#         print('Hero is dead')\n",
    "    \n",
    "#      if enemy_alive == True:\n",
    "#         print('Enemy is alive')\n",
    "#     else:\n",
    "#         print('Enemy is dead')\n",
    "\n",
    "print(charecter_health)\n",
    "print(enemy_health)\n",
    "\n"
   ]
  },
  {
   "cell_type": "markdown",
   "metadata": {},
   "source": [
    "# Check ^^^^^^^^^^^"
   ]
  },
  {
   "cell_type": "code",
   "execution_count": 30,
   "metadata": {},
   "outputs": [
    {
     "name": "stdout",
     "output_type": "stream",
     "text": [
      "[1, 2, 3, 4, 5, 6, 7, 9, 10]\n",
      "[1, 4, 9, 16, 25, 36, 49, 81, 100]\n"
     ]
    }
   ],
   "source": [
    "numbers_list = [1,2,3,4,5,6,7,9,10]\n",
    "numbers_squared_list = []\n",
    "\n",
    "for x in numbers_list:\n",
    "    numbers_squared_list.append(pow(x,2))\n",
    "    \n",
    "print(numbers_list)\n",
    "print(numbers_squared_list)"
   ]
  },
  {
   "cell_type": "code",
   "execution_count": 31,
   "metadata": {},
   "outputs": [],
   "source": [
    "#Easier method for creating a new list with different features\n",
    "numbers_squared_alternative = [pow(x,2) for x in numbers_list ]\n"
   ]
  },
  {
   "cell_type": "code",
   "execution_count": 32,
   "metadata": {},
   "outputs": [
    {
     "data": {
      "text/plain": [
       "[1, 4, 9, 16, 25, 36, 49, 81, 100]"
      ]
     },
     "execution_count": 32,
     "metadata": {},
     "output_type": "execute_result"
    }
   ],
   "source": [
    "numbers_squared_alternative"
   ]
  },
  {
   "cell_type": "code",
   "execution_count": 39,
   "metadata": {},
   "outputs": [],
   "source": [
    "many_numbers = [x for x in range(101)] #Creating a list of numbers from 0 to 100"
   ]
  },
  {
   "cell_type": "code",
   "execution_count": 40,
   "metadata": {},
   "outputs": [
    {
     "data": {
      "text/plain": [
       "[0,\n",
       " 1,\n",
       " 2,\n",
       " 3,\n",
       " 4,\n",
       " 5,\n",
       " 6,\n",
       " 7,\n",
       " 8,\n",
       " 9,\n",
       " 10,\n",
       " 11,\n",
       " 12,\n",
       " 13,\n",
       " 14,\n",
       " 15,\n",
       " 16,\n",
       " 17,\n",
       " 18,\n",
       " 19,\n",
       " 20,\n",
       " 21,\n",
       " 22,\n",
       " 23,\n",
       " 24,\n",
       " 25,\n",
       " 26,\n",
       " 27,\n",
       " 28,\n",
       " 29,\n",
       " 30,\n",
       " 31,\n",
       " 32,\n",
       " 33,\n",
       " 34,\n",
       " 35,\n",
       " 36,\n",
       " 37,\n",
       " 38,\n",
       " 39,\n",
       " 40,\n",
       " 41,\n",
       " 42,\n",
       " 43,\n",
       " 44,\n",
       " 45,\n",
       " 46,\n",
       " 47,\n",
       " 48,\n",
       " 49,\n",
       " 50,\n",
       " 51,\n",
       " 52,\n",
       " 53,\n",
       " 54,\n",
       " 55,\n",
       " 56,\n",
       " 57,\n",
       " 58,\n",
       " 59,\n",
       " 60,\n",
       " 61,\n",
       " 62,\n",
       " 63,\n",
       " 64,\n",
       " 65,\n",
       " 66,\n",
       " 67,\n",
       " 68,\n",
       " 69,\n",
       " 70,\n",
       " 71,\n",
       " 72,\n",
       " 73,\n",
       " 74,\n",
       " 75,\n",
       " 76,\n",
       " 77,\n",
       " 78,\n",
       " 79,\n",
       " 80,\n",
       " 81,\n",
       " 82,\n",
       " 83,\n",
       " 84,\n",
       " 85,\n",
       " 86,\n",
       " 87,\n",
       " 88,\n",
       " 89,\n",
       " 90,\n",
       " 91,\n",
       " 92,\n",
       " 93,\n",
       " 94,\n",
       " 95,\n",
       " 96,\n",
       " 97,\n",
       " 98,\n",
       " 99,\n",
       " 100]"
      ]
     },
     "execution_count": 40,
     "metadata": {},
     "output_type": "execute_result"
    }
   ],
   "source": [
    "many_numbers"
   ]
  },
  {
   "cell_type": "markdown",
   "metadata": {},
   "source": [
    "# How to find even or odd numbers in a list of numbers and create a list of even or odd numbers. "
   ]
  },
  {
   "cell_type": "code",
   "execution_count": 57,
   "metadata": {},
   "outputs": [
    {
     "name": "stdout",
     "output_type": "stream",
     "text": [
      "Even numbers list: [0, 2, 4, 6, 8, 10, 12, 14, 16, 18, 20, 22, 24, 26, 28, 30, 32, 34, 36, 38, 40, 42, 44, 46, 48, 50, 52, 54, 56, 58, 60, 62, 64, 66, 68, 70, 72, 74, 76, 78, 80, 82, 84, 86, 88, 90, 92, 94, 96, 98, 100] Wooow Very Even numbers\n",
      "\n",
      "Odd numbers list: [1, 3, 5, 7, 9, 11, 13, 15, 17, 19, 21, 23, 25, 27, 29, 31, 33, 35, 37, 39, 41, 43, 45, 47, 49, 51, 53, 55, 57, 59, 61, 63, 65, 67, 69, 71, 73, 75, 77, 79, 81, 83, 85, 87, 89, 91, 93, 95, 97, 99] Operation successful."
     ]
    }
   ],
   "source": [
    "even_numbers_list = list()\n",
    "odd_numbers_list = list()\n",
    "for x in many_numbers:\n",
    "    if x % 2 == 0:\n",
    "        even_numbers_list.append(x)\n",
    "    else:\n",
    "        odd_numbers_list.append(x)\n",
    "        \n",
    "#We can use if else right away since the remainder of any number when we divide it \n",
    "#to 2 is 1 or 0.\n",
    "#If the remainder is 1 then it is an odd number.\n",
    "#If the remander is 0 then it is an even number.\n",
    "\n",
    "print('Even numbers list:',even_numbers_list, end=' Wooow Very Even numbers\\n\\n') #end decides what happens after printing the line. new line \\n is the default option.\n",
    "print('Odd numbers list:',odd_numbers_list, end = ' Operation successful.') #We can end it like how we like to end it... Not like some other cases.."
   ]
  },
  {
   "cell_type": "code",
   "execution_count": 48,
   "metadata": {},
   "outputs": [],
   "source": [
    "even_numbers_0_to_100 = [x for x in many_numbers if x % 2 == 0] #we want x in many numbers as x if our condition is met."
   ]
  },
  {
   "cell_type": "code",
   "execution_count": 49,
   "metadata": {},
   "outputs": [
    {
     "name": "stdout",
     "output_type": "stream",
     "text": [
      "[0, 2, 4, 6, 8, 10, 12, 14, 16, 18, 20, 22, 24, 26, 28, 30, 32, 34, 36, 38, 40, 42, 44, 46, 48, 50, 52, 54, 56, 58, 60, 62, 64, 66, 68, 70, 72, 74, 76, 78, 80, 82, 84, 86, 88, 90, 92, 94, 96, 98, 100]\n"
     ]
    }
   ],
   "source": [
    "print(even_numbers_0_to_100)"
   ]
  },
  {
   "cell_type": "code",
   "execution_count": 50,
   "metadata": {},
   "outputs": [],
   "source": [
    "odd_numbers_0_to_100 = [x for x in many_numbers if x % 2 == 1]"
   ]
  },
  {
   "cell_type": "code",
   "execution_count": 51,
   "metadata": {},
   "outputs": [
    {
     "name": "stdout",
     "output_type": "stream",
     "text": [
      "[1, 3, 5, 7, 9, 11, 13, 15, 17, 19, 21, 23, 25, 27, 29, 31, 33, 35, 37, 39, 41, 43, 45, 47, 49, 51, 53, 55, 57, 59, 61, 63, 65, 67, 69, 71, 73, 75, 77, 79, 81, 83, 85, 87, 89, 91, 93, 95, 97, 99]\n"
     ]
    }
   ],
   "source": [
    "print(odd_numbers_0_to_100)"
   ]
  },
  {
   "cell_type": "code",
   "execution_count": 60,
   "metadata": {},
   "outputs": [
    {
     "name": "stdout",
     "output_type": "stream",
     "text": [
      "h\n",
      "e\n",
      "l\n",
      "l\n",
      "o\n",
      " \n",
      "w\n",
      "o\n",
      "r\n",
      "l\n",
      "d\n"
     ]
    }
   ],
   "source": [
    "x = 'hello world'\n",
    "for i in range(11):\n",
    "    print(x[i])"
   ]
  },
  {
   "cell_type": "code",
   "execution_count": 62,
   "metadata": {},
   "outputs": [
    {
     "name": "stdout",
     "output_type": "stream",
     "text": [
      "0\n",
      "4\n",
      "5\n",
      "10\n",
      "17\n"
     ]
    }
   ],
   "source": [
    "my_tuple = (1,5,6,11,18)\n",
    "for element in my_tuple:\n",
    "    print(element - 1)"
   ]
  },
  {
   "cell_type": "markdown",
   "metadata": {},
   "source": [
    " # Creating first 100 Fibonaci Numbers with While Loop (or desired amount since it there are infinitly many)"
   ]
  },
  {
   "cell_type": "code",
   "execution_count": 71,
   "metadata": {},
   "outputs": [],
   "source": [
    "#a_0 and a_1 for fib numbers are 1. Rest, is history.\n",
    "fibonacci_numbers = [1,1]\n",
    "\n",
    "\n",
    "i = 0 # counter should be outside\n",
    "while len(fibonacci_numbers) <100: #index of 1st element is 0. index of 100th element will be 99.\n",
    "    #if you place your counter in while loop, you will reassign your counter to \n",
    "    # 0 in evey pass of the loop.\n",
    "    \n",
    "    fibonacci_numbers.append(fibonacci_numbers[i]+fibonacci_numbers[i+1])\n",
    "    i = i+1\n"
   ]
  },
  {
   "cell_type": "code",
   "execution_count": 75,
   "metadata": {},
   "outputs": [
    {
     "name": "stdout",
     "output_type": "stream",
     "text": [
      "How many fib numbers we have created =  100\n",
      "\n",
      "Fib numbers list;\n",
      " [1, 1, 2, 3, 5, 8, 13, 21, 34, 55, 89, 144, 233, 377, 610, 987, 1597, 2584, 4181, 6765, 10946, 17711, 28657, 46368, 75025, 121393, 196418, 317811, 514229, 832040, 1346269, 2178309, 3524578, 5702887, 9227465, 14930352, 24157817, 39088169, 63245986, 102334155, 165580141, 267914296, 433494437, 701408733, 1134903170, 1836311903, 2971215073, 4807526976, 7778742049, 12586269025, 20365011074, 32951280099, 53316291173, 86267571272, 139583862445, 225851433717, 365435296162, 591286729879, 956722026041, 1548008755920, 2504730781961, 4052739537881, 6557470319842, 10610209857723, 17167680177565, 27777890035288, 44945570212853, 72723460248141, 117669030460994, 190392490709135, 308061521170129, 498454011879264, 806515533049393, 1304969544928657, 2111485077978050, 3416454622906707, 5527939700884757, 8944394323791464, 14472334024676221, 23416728348467685, 37889062373143906, 61305790721611591, 99194853094755497, 160500643816367088, 259695496911122585, 420196140727489673, 679891637638612258, 1100087778366101931, 1779979416004714189, 2880067194370816120, 4660046610375530309, 7540113804746346429, 12200160415121876738, 19740274219868223167, 31940434634990099905, 51680708854858323072, 83621143489848422977, 135301852344706746049, 218922995834555169026, 354224848179261915075]\n",
      "\n",
      "100th Fib number: 354224848179261915075\n",
      "\n"
     ]
    }
   ],
   "source": [
    "print('How many fib numbers we have created = ',len(fibonacci_numbers),end ='\\n\\n')\n",
    "print('Fib numbers list;\\n', fibonacci_numbers, end ='\\n\\n')\n",
    "print('100th Fib number:', fibonacci_numbers[99],end ='\\n\\n')\n"
   ]
  },
  {
   "cell_type": "code",
   "execution_count": 77,
   "metadata": {},
   "outputs": [
    {
     "name": "stdout",
     "output_type": "stream",
     "text": [
      "1\n",
      "2\n",
      "used pass!\n",
      "3\n",
      "4\n",
      "5\n",
      "6\n",
      "7\n",
      "8\n",
      "9\n",
      "10\n"
     ]
    }
   ],
   "source": [
    "numbers_list = [1,2,3,4,5,6,7,8,9,10]\n",
    "for number in numbers_list:\n",
    "    if number == 3:\n",
    "        print('used pass!')\n",
    "        pass\n",
    "    print(number)\n",
    "    \n",
    "#pass does nothing i guess\n",
    "    "
   ]
  },
  {
   "cell_type": "code",
   "execution_count": 78,
   "metadata": {},
   "outputs": [
    {
     "name": "stdout",
     "output_type": "stream",
     "text": [
      "1\n",
      "2\n",
      "3\n",
      "4\n"
     ]
    }
   ],
   "source": [
    "for number in numbers_list:\n",
    "    if number == 5:\n",
    "        break\n",
    "    print(number)\n",
    "#broke the loop at 5 and didint print 5 since it was before printing line."
   ]
  },
  {
   "cell_type": "code",
   "execution_count": 79,
   "metadata": {},
   "outputs": [
    {
     "name": "stdout",
     "output_type": "stream",
     "text": [
      "1\n",
      "2\n",
      "3\n",
      "4\n",
      "5\n"
     ]
    }
   ],
   "source": [
    "for number in numbers_list:\n",
    "    print(number)\n",
    "    if number == 5:\n",
    "        break\n",
    "#loop printed 5 since it prints the number then checks the statement"
   ]
  },
  {
   "cell_type": "code",
   "execution_count": 86,
   "metadata": {},
   "outputs": [],
   "source": [
    "while 16 in even_numbers_list:\n",
    "    x = even_numbers_list.pop() #removes last element and can hold it.\n",
    "    \n",
    "#Can't run this twice..."
   ]
  },
  {
   "cell_type": "code",
   "execution_count": 87,
   "metadata": {},
   "outputs": [
    {
     "name": "stdout",
     "output_type": "stream",
     "text": [
      "[0, 2, 4, 6, 8, 10, 12, 14]\n"
     ]
    }
   ],
   "source": [
    "print(even_numbers_list)"
   ]
  },
  {
   "cell_type": "code",
   "execution_count": 96,
   "metadata": {},
   "outputs": [
    {
     "name": "stdout",
     "output_type": "stream",
     "text": [
      "[20, 16, 16, 18, 20, 22, 24, 26]\n"
     ]
    }
   ],
   "source": [
    "i = 0\n",
    "while 14 in even_numbers_list:\n",
    "    even_numbers_list[i] = even_numbers_list[i] + 2\n",
    "    i+=1\n",
    "    if i > len(even_numbers_list) -1 :\n",
    "        i = 0\n",
    "print(even_numbers_list)"
   ]
  },
  {
   "cell_type": "markdown",
   "metadata": {},
   "source": [
    "# what did i do.. no idea..."
   ]
  },
  {
   "cell_type": "code",
   "execution_count": null,
   "metadata": {},
   "outputs": [],
   "source": []
  }
 ],
 "metadata": {
  "kernelspec": {
   "display_name": "Python 3",
   "language": "python",
   "name": "python3"
  },
  "language_info": {
   "codemirror_mode": {
    "name": "ipython",
    "version": 3
   },
   "file_extension": ".py",
   "mimetype": "text/x-python",
   "name": "python",
   "nbconvert_exporter": "python",
   "pygments_lexer": "ipython3",
   "version": "3.8.5"
  }
 },
 "nbformat": 4,
 "nbformat_minor": 4
}
