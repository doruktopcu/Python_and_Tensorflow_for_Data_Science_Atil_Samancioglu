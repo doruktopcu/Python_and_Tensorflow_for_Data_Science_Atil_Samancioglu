{
 "cells": [
  {
   "cell_type": "code",
   "execution_count": 1,
   "metadata": {},
   "outputs": [],
   "source": [
    "def sum_function(num_1, num_2):\n",
    "    return num_1 + num_2"
   ]
  },
  {
   "cell_type": "code",
   "execution_count": 4,
   "metadata": {},
   "outputs": [
    {
     "name": "stdout",
     "output_type": "stream",
     "text": [
      "Enter a number:5\n",
      "Enter a number:3\n"
     ]
    }
   ],
   "source": [
    "user_input_1 = int(input(\"Enter a number:\"))\n",
    "user_input_2 = int(input(\"Enter a number:\"))"
   ]
  },
  {
   "cell_type": "code",
   "execution_count": 5,
   "metadata": {},
   "outputs": [
    {
     "data": {
      "text/plain": [
       "8"
      ]
     },
     "execution_count": 5,
     "metadata": {},
     "output_type": "execute_result"
    }
   ],
   "source": [
    "sum_function(user_input_1, user_input_2)"
   ]
  },
  {
   "cell_type": "markdown",
   "metadata": {},
   "source": [
    "# try, except, else, finally "
   ]
  },
  {
   "cell_type": "code",
   "execution_count": 7,
   "metadata": {},
   "outputs": [
    {
     "name": "stdout",
     "output_type": "stream",
     "text": [
      "Enter an integer:wow\n",
      "Please enter a valid input.\n",
      "finally called.\n",
      "Enter an integer:yeah\n",
      "Please enter a valid input.\n",
      "finally called.\n",
      "Enter an integer:heck!\n",
      "Please enter a valid input.\n",
      "finally called.\n",
      "Enter an integer:5\n",
      "Thanks.\n",
      "finally called.\n"
     ]
    }
   ],
   "source": [
    "while True:\n",
    "    try:\n",
    "        my_int = int(input(\"Enter an integer:\"))\n",
    "    \n",
    "    except:\n",
    "        print(\"Please enter a valid input.\")\n",
    "        continue\n",
    "    else:\n",
    "        print(\"Thanks.\")\n",
    "        break\n",
    "    finally:\n",
    "        print(\"finally called.\")"
   ]
  },
  {
   "cell_type": "code",
   "execution_count": null,
   "metadata": {},
   "outputs": [],
   "source": []
  }
 ],
 "metadata": {
  "kernelspec": {
   "display_name": "Python 3",
   "language": "python",
   "name": "python3"
  },
  "language_info": {
   "codemirror_mode": {
    "name": "ipython",
    "version": 3
   },
   "file_extension": ".py",
   "mimetype": "text/x-python",
   "name": "python",
   "nbconvert_exporter": "python",
   "pygments_lexer": "ipython3",
   "version": "3.8.5"
  }
 },
 "nbformat": 4,
 "nbformat_minor": 4
}
