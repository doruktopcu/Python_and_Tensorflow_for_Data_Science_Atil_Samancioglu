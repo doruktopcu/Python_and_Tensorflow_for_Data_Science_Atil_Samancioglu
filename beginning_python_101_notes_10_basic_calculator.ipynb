{
 "cells": [
  {
   "cell_type": "code",
   "execution_count": 57,
   "metadata": {},
   "outputs": [],
   "source": [
    "def simple_calculator():\n",
    "    while True:\n",
    "        operation_list = ['+', '-', '/', '%', '*']\n",
    "        try:\n",
    "            operation_selection = input('Select operation: +, -, *, /, % <-remainder div. Type exit to exit.')\n",
    "        \n",
    "            if operation_selection == 'exit':\n",
    "                break\n",
    "            \n",
    "            number_input_1 = input('First number:')\n",
    "            number_input_2 = input('Second number:')\n",
    "        \n",
    "            if operation_selection == '+':\n",
    "                numbers_sum = int(number_input_1) + int(number_input_2)\n",
    "                print(f\"{number_input_1} {operation_selection} {number_input_2} = {numbers_sum} \")\n",
    "\n",
    "            elif operation_selection == '-':\n",
    "                numbers_difference = int(number_input_1) - int(number_input_2)\n",
    "                print(f\"{number_input_1} {operation_selection} {number_input_2} = {numbers_difference} \")\n",
    "\n",
    "            elif operation_selection == '*':\n",
    "                total = int(number_input_1) * int(number_input_2)\n",
    "                print(f\"{number_input_1} {operation_selection} {number_input_2} = {total}\")\n",
    "\n",
    "            elif operation_selection == '/':\n",
    "                numbers_divison = int(number_input_1) / int(number_input_2)\n",
    "                print(f\"{number_input_1} {operation_selection} {number_input_2} = {numbers_divison} \")\n",
    "\n",
    "            elif operation_selection == '%':\n",
    "                numbers_remainder = int(number_input_1) % int(number_input_2)\n",
    "                print(f\"{number_input_1} {operation_selection} {number_input_2} = {numbers_remainder} is the remainder. \")\n",
    "            \n",
    "            elif operation_selection not in operation_list:\n",
    "                print('Please enter a valid operation code.')\n",
    "            \n",
    "        \n",
    "        except:\n",
    "            \n",
    "            print('Please enter valid numbers.')\n",
    "\n",
    "        \n",
    "        "
   ]
  },
  {
   "cell_type": "code",
   "execution_count": 58,
   "metadata": {},
   "outputs": [
    {
     "name": "stdout",
     "output_type": "stream",
     "text": [
      "Select operation: +, -, *, /, % <-remainder div. Type exit to exit.*\n",
      "First number:5\n",
      "Second number:5\n",
      "5 * 5 = 25\n",
      "Select operation: +, -, *, /, % <-remainder div. Type exit to exit.+\n",
      "First number:5\n",
      "Second number:3\n",
      "5 + 3 = 8 \n",
      "Select operation: +, -, *, /, % <-remainder div. Type exit to exit.-\n",
      "First number:16\n",
      "Second number:8\n",
      "16 - 8 = 8 \n",
      "Select operation: +, -, *, /, % <-remainder div. Type exit to exit.%\n",
      "First number:25\n",
      "Second number:2\n",
      "25 % 2 = 1 is the remainder. \n",
      "Select operation: +, -, *, /, % <-remainder div. Type exit to exit.hey\n",
      "First number:2\n",
      "Second number:4\n",
      "Please enter a valid operation code.\n",
      "Select operation: +, -, *, /, % <-remainder div. Type exit to exit.+\n",
      "First number:hey\n",
      "Second number:5\n",
      "Please enter valid numbers.\n",
      "Select operation: +, -, *, /, % <-remainder div. Type exit to exit.exit\n"
     ]
    }
   ],
   "source": [
    "simple_calculator()"
   ]
  },
  {
   "cell_type": "code",
   "execution_count": null,
   "metadata": {},
   "outputs": [],
   "source": []
  }
 ],
 "metadata": {
  "kernelspec": {
   "display_name": "Python 3",
   "language": "python",
   "name": "python3"
  },
  "language_info": {
   "codemirror_mode": {
    "name": "ipython",
    "version": 3
   },
   "file_extension": ".py",
   "mimetype": "text/x-python",
   "name": "python",
   "nbconvert_exporter": "python",
   "pygments_lexer": "ipython3",
   "version": "3.8.5"
  }
 },
 "nbformat": 4,
 "nbformat_minor": 4
}
